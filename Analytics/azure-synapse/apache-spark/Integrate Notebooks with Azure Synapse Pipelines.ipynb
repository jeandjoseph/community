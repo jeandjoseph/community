{
  "nbformat": 4,
  "nbformat_minor": 2,
  "cells": [
    {
      "cell_type": "markdown",
      "metadata": {
        "nteract": {
          "transient": {
            "deleting": false
          }
        }
      },
      "source": [
        "## Integrate data from Notebooks with Azure Data Factory or Azure Synapse Pipelines\r\n",
        "- Local & Global Parameter\r\n",
        "- Parameter Driven"
      ]
    },
    {
      "cell_type": "code",
      "execution_count": null,
      "outputs": [],
      "metadata": {
        "microsoft": {
          "language": "python"
        },
        "collapsed": false
      },
      "source": [
        "%%pyspark\r\n",
        "df = (\r\n",
        "         spark.read.load('abfss://root@adlesilabs.dfs.core.windows.net/sale-poc/sale-20170501.csv', format='csv'\r\n",
        "        ,header=True\r\n",
        "        ,inferschema=True\r\n",
        ")\r\n",
        ")\r\n",
        "display(df.limit(3))"
      ]
    },
    {
      "cell_type": "markdown",
      "metadata": {
        "nteract": {
          "transient": {
            "deleting": false
          }
        }
      },
      "source": [
        "## Goal is to return top 5 best customers"
      ]
    },
    {
      "cell_type": "code",
      "execution_count": null,
      "outputs": [],
      "metadata": {
        "jupyter": {
          "source_hidden": false,
          "outputs_hidden": false
        },
        "nteract": {
          "transient": {
            "deleting": false
          }
        }
      },
      "source": [
        "SalePOC = df.select(\"CustomerID\",\"Quantity\",\"TotalAmount\",\"ProfitAmount\")"
      ]
    },
    {
      "cell_type": "code",
      "execution_count": null,
      "outputs": [],
      "metadata": {
        "jupyter": {
          "source_hidden": false,
          "outputs_hidden": false
        },
        "nteract": {
          "transient": {
            "deleting": false
          }
        },
        "collapsed": false
      },
      "source": [
        "display(SalePOC.limit(3))"
      ]
    },
    {
      "cell_type": "markdown",
      "metadata": {
        "nteract": {
          "transient": {
            "deleting": false
          }
        }
      },
      "source": [
        "A SQL Guy"
      ]
    },
    {
      "cell_type": "code",
      "execution_count": null,
      "outputs": [],
      "metadata": {
        "jupyter": {
          "source_hidden": false,
          "outputs_hidden": false
        },
        "nteract": {
          "transient": {
            "deleting": false
          }
        }
      },
      "source": [
        "SalePOC.createOrReplaceTempView(\"Top5BestCustomers\")"
      ]
    },
    {
      "cell_type": "code",
      "execution_count": null,
      "outputs": [],
      "metadata": {
        "jupyter": {
          "source_hidden": false,
          "outputs_hidden": false
        },
        "nteract": {
          "transient": {
            "deleting": false
          }
        },
        "microsoft": {
          "language": "sparksql"
        },
        "collapsed": false
      },
      "source": [
        "%%sql\r\n",
        "SELECT CustomerID\r\n",
        "      ,SUM(Quantity) AS SubTotalQuantity\r\n",
        "      ,CAST(SUM(TotalAmount) AS DECIMAL(18,2)) AS SubTotalAmount\r\n",
        "      ,CAST(SUM(ProfitAmount) AS DECIMAL(18,2)) AS SubProfitAmount\r\n",
        "FROM Top5BestCustomers\r\n",
        "GROUP BY CustomerID\r\n",
        "ORDER BY SubProfitAmount DESC\r\n",
        "LIMIT 5"
      ]
    },
    {
      "cell_type": "code",
      "execution_count": null,
      "outputs": [],
      "metadata": {
        "jupyter": {
          "source_hidden": false,
          "outputs_hidden": false
        },
        "nteract": {
          "transient": {
            "deleting": false
          }
        },
        "collapsed": false
      },
      "source": [
        "spark.sql(\"\"\"\r\n",
        "SELECT CustomerID\r\n",
        "      ,SUM(Quantity) AS SubTotalQuantity\r\n",
        "      ,CAST(SUM(TotalAmount) AS DECIMAL(18,2)) AS SubTotalAmount\r\n",
        "      ,CAST(SUM(ProfitAmount) AS DECIMAL(18,2)) AS SubProfitAmount\r\n",
        "FROM Top5BestCustomers\r\n",
        "GROUP BY CustomerID\r\n",
        "ORDER BY SubProfitAmount DESC\r\n",
        "LIMIT 5\r\n",
        "\"\"\").show()"
      ]
    },
    {
      "cell_type": "code",
      "execution_count": null,
      "outputs": [],
      "metadata": {
        "jupyter": {
          "source_hidden": false,
          "outputs_hidden": false
        },
        "nteract": {
          "transient": {
            "deleting": false
          }
        }
      },
      "source": [
        "Top5BestCustomer = spark.sql(\"\"\"\r\n",
        "SELECT CustomerID\r\n",
        "      ,SUM(Quantity) AS SubTotalQuantity\r\n",
        "      ,CAST(SUM(TotalAmount) AS DECIMAL(18,2)) AS SubTotalAmount\r\n",
        "      ,CAST(SUM(ProfitAmount) AS DECIMAL(18,2)) AS SubProfitAmount\r\n",
        "FROM Top5BestCustomers\r\n",
        "GROUP BY CustomerID\r\n",
        "ORDER BY SubProfitAmount DESC\r\n",
        "LIMIT 5\r\n",
        "\"\"\")"
      ]
    },
    {
      "cell_type": "code",
      "execution_count": null,
      "outputs": [],
      "metadata": {
        "jupyter": {
          "source_hidden": false,
          "outputs_hidden": false
        },
        "nteract": {
          "transient": {
            "deleting": false
          }
        },
        "collapsed": false
      },
      "source": [
        "display(Top5BestCustomer)"
      ]
    },
    {
      "cell_type": "code",
      "execution_count": null,
      "outputs": [],
      "metadata": {
        "jupyter": {
          "source_hidden": false,
          "outputs_hidden": false
        },
        "nteract": {
          "transient": {
            "deleting": false
          }
        }
      },
      "source": [
        "dateFormat = \"%Y%m%d%H%M\"\r\n",
        "import datetime\r\n",
        "ts=spark.sql(\"\"\" select current_timestamp() as ctime \"\"\").collect()[0][\"ctime\"]\r\n",
        ""
      ]
    },
    {
      "cell_type": "code",
      "execution_count": null,
      "outputs": [],
      "metadata": {
        "jupyter": {
          "source_hidden": false,
          "outputs_hidden": false
        },
        "nteract": {
          "transient": {
            "deleting": false
          }
        },
        "tags": []
      },
      "source": [
        "ld_datetime = ts.strftime(dateFormat)"
      ]
    },
    {
      "cell_type": "code",
      "execution_count": null,
      "outputs": [],
      "metadata": {
        "jupyter": {
          "source_hidden": false,
          "outputs_hidden": false
        },
        "nteract": {
          "transient": {
            "deleting": false
          }
        }
      },
      "source": [
        "Top5BestCustomer.write.parquet('abfss://root@adlesilabs.dfs.core.windows.net/IntegrateNotebooks/SalesOrderHeader/' + str(ld_datetime))"
      ]
    },
    {
      "cell_type": "markdown",
      "metadata": {
        "nteract": {
          "transient": {
            "deleting": false
          }
        }
      },
      "source": [
        "# Clean Up"
      ]
    },
    {
      "cell_type": "code",
      "execution_count": null,
      "outputs": [],
      "metadata": {
        "jupyter": {
          "source_hidden": false,
          "outputs_hidden": false
        },
        "nteract": {
          "transient": {
            "deleting": false
          }
        }
      },
      "source": [
        " #mssparkutils.fs.rm('abfss://root@adlesilabs.dfs.core.windows.net/IntegrateNotebooks/SalesOrderHeader', True) "
      ]
    }
  ],
  "metadata": {
    "description": null,
    "save_output": false,
    "kernelspec": {
      "name": "synapse_pyspark",
      "display_name": "Synapse PySpark"
    },
    "language_info": {
      "name": "python"
    }
  }
}