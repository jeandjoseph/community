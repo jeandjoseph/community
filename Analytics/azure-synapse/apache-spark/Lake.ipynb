{
  "nbformat": 4,
  "nbformat_minor": 2,
  "metadata": {
    "kernelspec": {
      "name": "synapse_pyspark",
      "display_name": "Synapse PySpark"
    },
    "language_info": {
      "name": "python"
    },
    "description": null,
    "save_output": true,
    "synapse_widget": {
      "version": "0.1",
      "state": {}
    }
  },
  "cells": [
    {
      "cell_type": "code",
      "execution_count": null,
      "outputs": [],
      "metadata": {
        "microsoft": {
          "language": "sparksql"
        },
        "collapsed": false
      },
      "source": [
        "%%sql\r\n",
        "\r\n",
        "use LakeDbDemo;\r\n",
        "\r\n",
        "SHOW CREATE TABLE PurchaseOrderDetail;"
      ]
    },
    {
      "cell_type": "code",
      "execution_count": 33,
      "outputs": [
        {
          "output_type": "display_data",
          "data": {
            "application/vnd.livy.statement-meta+json": {
              "spark_pool": "SparkPool01",
              "session_id": "12",
              "statement_id": 40,
              "state": "finished",
              "livy_statement_state": "available",
              "queued_time": "2023-08-29T01:33:01.0364974Z",
              "session_start_time": null,
              "execution_start_time": "2023-08-29T01:33:01.2088565Z",
              "execution_finish_time": "2023-08-29T01:33:01.7597517Z",
              "spark_jobs": null,
              "parent_msg_id": "fa058c7a-9ade-4bb3-b0b5-fb2f20e48af0"
            },
            "text/plain": "StatementMeta(SparkPool01, 12, 40, Finished, Available)"
          },
          "metadata": {}
        },
        {
          "output_type": "stream",
          "name": "stdout",
          "text": [
            "root\n |-- createtab_stmt: string (nullable = false)\n\n"
          ]
        }
      ],
      "metadata": {
        "jupyter": {
          "source_hidden": false,
          "outputs_hidden": false
        },
        "nteract": {
          "transient": {
            "deleting": false
          }
        },
        "collapsed": false
      },
      "source": [
        "spark.sql(\"SHOW CREATE TABLE LakeDbDemo.PurchaseOrderDetail\").show()"
      ]
    },
    {
      "cell_type": "code",
      "execution_count": null,
      "outputs": [],
      "metadata": {
        "jupyter": {
          "source_hidden": false,
          "outputs_hidden": false
        },
        "nteract": {
          "transient": {
            "deleting": false
          }
        }
      },
      "source": [
        "# dedicated sql pool\r\n",
        "spark.read.synapsesql(\"sqlpoo01.dbo.PurchaseOrderDetail\").limit(0).printSchema()"
      ]
    }
  ]
}