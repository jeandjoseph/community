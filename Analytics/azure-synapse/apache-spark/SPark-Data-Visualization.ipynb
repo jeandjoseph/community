{
  "nbformat": 4,
  "nbformat_minor": 2,
  "metadata": {
    "kernelspec": {
      "name": "synapse_pyspark",
      "display_name": "Synapse PySpark"
    },
    "language_info": {
      "name": "python"
    },
    "description": null,
    "save_output": true,
    "synapse_widget": {
      "version": "0.1",
      "state": {}
    }
  },
  "cells": [
    {
      "cell_type": "code",
      "execution_count": null,
      "outputs": [],
      "metadata": {
        "collapsed": false
      },
      "source": [
        "PurchaseOrderDetail = spark.read.load('abfss://root@azuredatalakelabs.dfs.core.windows.net/myfiles/PurchaseOrderDetail.csv'\r\n",
        "             ,format='csv'\r\n",
        "             ,header=True\r\n",
        ")\r\n",
        "display(PurchaseOrderDetail.limit(3))"
      ]
    },
    {
      "cell_type": "code",
      "execution_count": null,
      "outputs": [],
      "metadata": {
        "jupyter": {
          "source_hidden": false,
          "outputs_hidden": false
        },
        "nteract": {
          "transient": {
            "deleting": false
          }
        },
        "microsoft": {
          "language": "python"
        }
      },
      "source": [
        "%%pyspark\r\n",
        "from pyspark.sql.types import *\r\n",
        "from pyspark.sql.functions import *"
      ]
    },
    {
      "cell_type": "code",
      "execution_count": 14,
      "outputs": [],
      "metadata": {
        "jupyter": {
          "source_hidden": false,
          "outputs_hidden": false
        },
        "nteract": {
          "transient": {
            "deleting": false
          }
        },
        "microsoft": {
          "language": "python"
        },
        "collapsed": false
      },
      "source": [
        "%%pyspark\r\n",
        "orderSchema = StructType([\r\n",
        "    StructField(\"PurchaseOrderID\", IntegerType()),\r\n",
        "    StructField(\"PurchaseOrderDetailID\", IntegerType()),\r\n",
        "    StructField(\"DueDate\", DateType()),\r\n",
        "    StructField(\"OrderQty\", IntegerType()),\r\n",
        "    StructField(\"ProductID\", IntegerType()),\r\n",
        "    StructField(\"UnitPrice\", DecimalType(12,2)),\r\n",
        "    StructField(\"LineTotal\", DecimalType(12,2)),\r\n",
        "    StructField(\"ReceivedQty\", DecimalType(12,2)),\r\n",
        "    StructField(\"RejectedQty\", DecimalType(12,2)),\r\n",
        "    StructField(\"StockedQty\", DecimalType(12,2)),\r\n",
        "    StructField(\"ModifiedDate\", DateType())\r\n",
        "    ])\r\n",
        "\r\n",
        "PurchaseOrderDetail = spark.read.load('abfss://root@azuredatalakelabs.dfs.core.windows.net/myfiles/PurchaseOrderDetail.csv'\r\n",
        "             ,format='csv'\r\n",
        "             ,schema=orderSchema\r\n",
        "             ,header=True\r\n",
        ")\r\n",
        "display(PurchaseOrderDetail.limit(3))"
      ]
    },
    {
      "cell_type": "code",
      "execution_count": 9,
      "outputs": [],
      "metadata": {
        "jupyter": {
          "source_hidden": false,
          "outputs_hidden": false
        },
        "nteract": {
          "transient": {
            "deleting": false
          }
        }
      },
      "source": [
        "PurchaseOrderDetail.createOrReplaceTempView(\"SalesOrderDetail\")"
      ]
    },
    {
      "cell_type": "code",
      "execution_count": 46,
      "outputs": [],
      "metadata": {
        "jupyter": {
          "source_hidden": false,
          "outputs_hidden": false
        },
        "nteract": {
          "transient": {
            "deleting": false
          }
        }
      },
      "source": [
        "from matplotlib import pyplot as plt"
      ]
    },
    {
      "cell_type": "code",
      "execution_count": 83,
      "outputs": [],
      "metadata": {
        "jupyter": {
          "source_hidden": false,
          "outputs_hidden": false
        },
        "nteract": {
          "transient": {
            "deleting": false
          }
        },
        "microsoft": {
          "language": "python"
        },
        "collapsed": false
      },
      "source": [
        "%%pyspark\r\n",
        "SalesOrderDetail = spark.sql(\"\"\"\r\n",
        "    WITH SalesOrderDetail (DueDate,TotalPurchasePrice,TotalSalesPrice,ReceivedQty)\r\n",
        "    AS \r\n",
        "    ( \r\n",
        "        SELECT DueDate\r\n",
        "            ,SUM(UnitPrice) AS TotalPurchasePrice\r\n",
        "            ,SUM(LineTotal) AS TotalSalesPrice\r\n",
        "            ,COUNT(ReceivedQty) AS ReceivedQty\r\n",
        "        FROM SalesOrderDetail\r\n",
        "        WHERE YEAR(DueDate) ='2013'\r\n",
        "          AND MONTH(DueDate) IN (1,2,3,4,5,6)\r\n",
        "        GROUP BY DueDate\r\n",
        "    )\r\n",
        "    SELECT DueDate\r\n",
        "        ,TotalPurchasePrice * ReceivedQty AS TotalPurchasePrice\r\n",
        "        ,TotalSalesPrice\r\n",
        "        ,TotalSalesPrice - TotalPurchasePrice AS TotalRevenue\r\n",
        "        ,ReceivedQty\r\n",
        "    FROM SalesOrderDetail\r\n",
        "    ORDER BY DueDate\r\n",
        "\"\"\").toPandas()"
      ]
    },
    {
      "cell_type": "code",
      "execution_count": 111,
      "outputs": [],
      "metadata": {
        "jupyter": {
          "source_hidden": false,
          "outputs_hidden": false
        },
        "nteract": {
          "transient": {
            "deleting": false
          }
        },
        "microsoft": {
          "language": "python"
        }
      },
      "source": [
        "%%pyspark\r\n",
        "from matplotlib import pyplot as plt\r\n",
        "\r\n",
        "# clear the plot area\r\n",
        "plt.clf()\r\n",
        "\r\n",
        "# create a figure\r\n",
        "figure = plt.figure(figsize=(12, 8))\r\n",
        "\r\n",
        "# create a bar plot of total sales by month\r\n",
        "plt.bar(x=SalesOrderDetail['DueDate'], height=SalesOrderDetail['TotalSalesPrice'], color='green')\r\n",
        "\r\n",
        "# customize the chart\r\n",
        "plt.title('2013 First & Second Quarter')\r\n",
        "plt.xlabel('Sales Order Details')\r\n",
        "plt.ylabel('Revenue by Total number of orders')\r\n",
        "plt.grid(color='#95a5a6', linestyle='--')\r\n",
        "\r\n",
        "# show the plot area\r\n",
        "plt.show()"
      ]
    },
    {
      "cell_type": "code",
      "execution_count": 110,
      "outputs": [],
      "metadata": {
        "jupyter": {
          "source_hidden": false,
          "outputs_hidden": false
        },
        "nteract": {
          "transient": {
            "deleting": false
          }
        }
      },
      "source": [
        "\r\n",
        "plt.plot(SalesOrderDetail[\"DueDate\"],SalesOrderDetail[\"TotalPurchasePrice\"], color=\"black\")\r\n",
        "\r\n",
        "plt.plot(SalesOrderDetail[\"DueDate\"],SalesOrderDetail[\"TotalSalesPrice\"], color=\"green\")\r\n",
        "\r\n",
        "plt.title('2013 First & Second Quarter')\r\n",
        "\r\n",
        "plt.xlabel('Sales Order Details')\r\n",
        "plt.ylabel('Revenue by Total number of orders')\r\n",
        "\r\n",
        "plt.grid(True)\r\n",
        "\r\n",
        "plt.show()\r\n",
        ""
      ]
    }
  ]
}