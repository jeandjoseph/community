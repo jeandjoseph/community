{
  "nbformat": 4,
  "nbformat_minor": 2,
  "cells": [
    {
      "cell_type": "code",
      "execution_count": null,
      "outputs": [],
      "metadata": {
        "collapsed": false
      },
      "source": [
        "-- drop database if exist\r\n",
        "DROP DATABASE IF EXISTS OfficeHours CASCADE"
      ]
    },
    {
      "cell_type": "code",
      "execution_count": null,
      "outputs": [],
      "metadata": {
        "jupyter": {
          "source_hidden": false,
          "outputs_hidden": false
        },
        "nteract": {
          "transient": {
            "deleting": false
          }
        },
        "collapsed": false
      },
      "source": [
        "-- Database if not exist\r\n",
        "CREATE DATABASE IF NOT EXISTS OfficeHours"
      ]
    },
    {
      "cell_type": "code",
      "execution_count": null,
      "outputs": [],
      "metadata": {
        "jupyter": {
          "source_hidden": false,
          "outputs_hidden": false
        },
        "nteract": {
          "transient": {
            "deleting": false
          }
        },
        "collapsed": false
      },
      "source": [
        "CREATE TABLE OfficeHours.havefun(\r\n",
        "    InstructorName VARCHAR(50),\r\n",
        "    CourseName VARCHAR(50),\r\n",
        "    IsPrimary INT\r\n",
        ")"
      ]
    },
    {
      "cell_type": "code",
      "execution_count": null,
      "outputs": [],
      "metadata": {
        "jupyter": {
          "source_hidden": false,
          "outputs_hidden": false
        },
        "nteract": {
          "transient": {
            "deleting": false
          }
        },
        "collapsed": false
      },
      "source": [
        "-- will create one files\r\n",
        "INSERT INTO OfficeHours.havefun\r\n",
        "SELECT 'Rob Foulkrod'A,'DP-203'B,1 C UNION\r\n",
        "SELECT 'Jean Joseph','DP-203',0;"
      ]
    },
    {
      "cell_type": "code",
      "execution_count": null,
      "outputs": [],
      "metadata": {
        "jupyter": {
          "source_hidden": false,
          "outputs_hidden": false
        },
        "nteract": {
          "transient": {
            "deleting": false
          }
        },
        "collapsed": false
      },
      "source": [
        "-- will create two files\r\n",
        "INSERT INTO OfficeHours.havefun\r\n",
        "VALUES('Rob Foulkrod','DP-203',1);\r\n",
        "\r\n",
        "INSERT INTO OfficeHours.havefun\r\n",
        "VALUES('Jean Joseph','DP-203',0)"
      ]
    },
    {
      "cell_type": "code",
      "execution_count": null,
      "outputs": [],
      "metadata": {
        "jupyter": {
          "source_hidden": false,
          "outputs_hidden": false
        },
        "nteract": {
          "transient": {
            "deleting": false
          }
        }
      },
      "source": [
        "-- will failed to update\r\n",
        "update OfficeHours.havefun set InstructorName='Rob Foulkrod'"
      ]
    },
    {
      "cell_type": "code",
      "execution_count": null,
      "outputs": [],
      "metadata": {
        "jupyter": {
          "source_hidden": false,
          "outputs_hidden": false
        },
        "nteract": {
          "transient": {
            "deleting": false
          }
        },
        "collapsed": false
      },
      "source": [
        "-- drop database if exist\r\n",
        "DROP DATABASE IF EXISTS OfficeHours CASCADE"
      ]
    }
  ],
  "metadata": {
    "description": null,
    "save_output": true,
    "kernelspec": {
      "name": "synapse_pyspark",
      "display_name": "Synapse PySpark"
    },
    "language_info": {
      "name": "sql"
    }
  }
}