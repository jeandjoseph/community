{
  "nbformat": 4,
  "nbformat_minor": 2,
  "cells": [
    {
      "cell_type": "markdown",
      "metadata": {
        "nteract": {
          "transient": {
            "deleting": false
          }
        }
      },
      "source": [
        "# Azure Delta Lake Demo"
      ]
    },
    {
      "cell_type": "code",
      "execution_count": null,
      "outputs": [],
      "metadata": {
        "jupyter": {
          "source_hidden": false,
          "outputs_hidden": false
        },
        "nteract": {
          "transient": {
            "deleting": false
          }
        },
        "microsoft": {
          "language": "python"
        },
        "collapsed": false
      },
      "source": [
        "%%pyspark\r\n",
        "csvFilePath = 'abfss://root@adlesilabs.dfs.core.windows.net/demofiles/csv/PurchaseOrderDetail.csv'\r\n",
        "DeltaDF = spark.read.load(\r\n",
        "     csvFilePath\r\n",
        "   , format='csv'\r\n",
        "   , header=True\r\n",
        "   , inferschema=True\r\n",
        ")\r\n",
        "display(DeltaDF.limit(3))\r\n",
        "print(DeltaDF)"
      ]
    },
    {
      "cell_type": "code",
      "execution_count": null,
      "outputs": [],
      "metadata": {
        "jupyter": {
          "source_hidden": false,
          "outputs_hidden": false
        },
        "nteract": {
          "transient": {
            "deleting": false
          }
        },
        "collapsed": false
      },
      "source": [
        "from pyspark.sql.functions import *\r\n",
        "from pyspark.sql.types import DecimalType,datetime\r\n",
        "\r\n",
        "group_cols = [\"PurchaseOrderID\", \"DueDate\",\"ModifiedDate\"]\r\n",
        "\r\n",
        "DeltaDF = (\r\n",
        "   DeltaDF.groupBy(group_cols)\r\n",
        "          .agg(\r\n",
        "              sum(\"LineTotal\").alias(\"SubTotal\")\r\n",
        "          )\r\n",
        ").withColumn(\r\n",
        "    \"SubTotal\",col(\"SubTotal\").cast(DecimalType(18,2))\r\n",
        ").select(\r\n",
        "          \"PurchaseOrderID\"\r\n",
        "        , date_format(\"DueDate\",\"MM-dd-yyyy\").alias(\"DueDate\")\r\n",
        "        , date_format(\"ModifiedDate\",\"MM-dd-yyyy\").alias(\"ModifiedDate\")\r\n",
        "        , \"SubTotal\"\r\n",
        ")\r\n",
        "\r\n",
        "\r\n",
        "DeltaDF.show()\r\n",
        "\r\n",
        "\r\n",
        "print(DeltaDF)\r\n",
        "\r\n",
        ""
      ]
    },
    {
      "cell_type": "code",
      "execution_count": null,
      "outputs": [],
      "metadata": {
        "jupyter": {
          "source_hidden": false,
          "outputs_hidden": false
        },
        "nteract": {
          "transient": {
            "deleting": false
          }
        },
        "microsoft": {
          "language": "python"
        }
      },
      "source": [
        "%%pyspark\r\n",
        "\r\n",
        "deltaFilePath = \"abfss://root@adlesilabs.dfs.core.windows.net/delta/Table/PurchaseOrderDetail\"\r\n",
        "\r\n",
        "# Save as a Delta files\r\n",
        "(\r\n",
        "    DeltaDF.write.format(\"delta\")\r\n",
        "           .mode(\"overwrite\")\r\n",
        "           .option('overwriteSchema','true')\r\n",
        "           .save(deltaFilePath)\r\n",
        ")"
      ]
    },
    {
      "cell_type": "code",
      "execution_count": null,
      "outputs": [],
      "metadata": {
        "jupyter": {
          "source_hidden": false,
          "outputs_hidden": false
        },
        "nteract": {
          "transient": {
            "deleting": false
          }
        },
        "microsoft": {
          "language": "python"
        }
      },
      "source": [
        "%%pyspark\r\n",
        "\r\n",
        "# Can be saved as a Spark Table\r\n",
        "\r\n",
        "FilePath = 'abfss://root@adlesilabs.dfs.core.windows.net/delta/Table/PurchaseOrderDetail'\r\n",
        "df = spark.read.load(FilePath, format='delta')\r\n",
        "\r\n",
        "df.write.mode(\"overwrite\").saveAsTable(\"default.PurchaseOrderDetails\")"
      ]
    },
    {
      "cell_type": "code",
      "execution_count": null,
      "outputs": [],
      "metadata": {
        "jupyter": {
          "source_hidden": false,
          "outputs_hidden": false
        },
        "nteract": {
          "transient": {
            "deleting": false
          }
        },
        "microsoft": {
          "language": "python"
        },
        "collapsed": false
      },
      "source": [
        "%%pyspark\r\n",
        "# Leverage SQL to read the data\r\n",
        "DailyTop5Sales = spark.sql(\"SELECT * FROM default.PurchaseOrderDetails ORDER BY SubTotal DESC LIMIT 5\")\r\n",
        "display(DailyTop5Sales)"
      ]
    },
    {
      "cell_type": "code",
      "execution_count": null,
      "outputs": [],
      "metadata": {
        "jupyter": {
          "source_hidden": false,
          "outputs_hidden": false
        },
        "nteract": {
          "transient": {
            "deleting": false
          }
        },
        "microsoft": {
          "language": "sparksql"
        },
        "collapsed": false
      },
      "source": [
        "%%sql\r\n",
        "-- Leverage SQL to read the data\r\n",
        "SELECT * FROM default.PurchaseOrderDetails ORDER BY SubTotal DESC LIMIT 5"
      ]
    },
    {
      "cell_type": "code",
      "execution_count": null,
      "outputs": [],
      "metadata": {
        "jupyter": {
          "source_hidden": false,
          "outputs_hidden": false
        },
        "nteract": {
          "transient": {
            "deleting": false
          }
        },
        "microsoft": {
          "language": "sparksql"
        },
        "collapsed": false
      },
      "source": [
        "%%sql\r\n",
        "DESCRIBE HISTORY 'abfss://root@adlesilabs.dfs.core.windows.net/delta/Table/PurchaseOrderDetail/'"
      ]
    },
    {
      "cell_type": "code",
      "execution_count": null,
      "outputs": [],
      "metadata": {
        "jupyter": {
          "source_hidden": false,
          "outputs_hidden": false
        },
        "nteract": {
          "transient": {
            "deleting": false
          }
        },
        "microsoft": {
          "language": "sparksql"
        },
        "collapsed": false
      },
      "source": [
        "%%sql\r\n",
        "-- About to update these records\r\n",
        "SELECT * \r\n",
        "FROM default.PurchaseOrderDetails\r\n",
        "WHERE PurchaseOrderID = 4012"
      ]
    },
    {
      "cell_type": "code",
      "execution_count": null,
      "outputs": [],
      "metadata": {
        "jupyter": {
          "source_hidden": false,
          "outputs_hidden": false
        },
        "nteract": {
          "transient": {
            "deleting": false
          }
        }
      },
      "source": [
        "from delta.tables import *\r\n",
        "from pyspark.sql.functions import *\r\n",
        "\r\n",
        "deltaTable = DeltaTable.forPath(spark, 'abfss://root@adlesilabs.dfs.core.windows.net/delta/Table/PurchaseOrderDetail/')\r\n",
        "\r\n",
        "# Declare the predicate by using a SQL-formatted string.\r\n",
        "deltaTable.update(\r\n",
        "  condition = \"PurchaseOrderID = 4012\",\r\n",
        "  set = { \r\n",
        "          \"ModifiedDate\": \"'8-12-2017'\",\r\n",
        "          \"DueDate\": \"'8-12-2017'\"\r\n",
        "        }\r\n",
        ")"
      ]
    },
    {
      "cell_type": "code",
      "execution_count": null,
      "outputs": [],
      "metadata": {
        "jupyter": {
          "source_hidden": false,
          "outputs_hidden": false
        },
        "nteract": {
          "transient": {
            "deleting": false
          }
        },
        "microsoft": {
          "language": "sparksql"
        },
        "collapsed": false
      },
      "source": [
        "%%sql\r\n",
        "DESCRIBE HISTORY 'abfss://root@adlesilabs.dfs.core.windows.net/delta/Table/PurchaseOrderDetail/'"
      ]
    },
    {
      "cell_type": "code",
      "execution_count": null,
      "outputs": [],
      "metadata": {
        "jupyter": {
          "source_hidden": false,
          "outputs_hidden": false
        },
        "nteract": {
          "transient": {
            "deleting": false
          }
        },
        "collapsed": false
      },
      "source": [
        "# Why the correct value is not showing?\r\n",
        "df2 = spark.read.format(\"delta\").option(\"versionAsOf\", 0).load(\"abfss://root@adlesilabs.dfs.core.windows.net/delta/Table/PurchaseOrderDetail/\")\r\n",
        "display(df2.where(\"PurchaseOrderID = 4012\"))"
      ]
    },
    {
      "cell_type": "code",
      "execution_count": null,
      "outputs": [],
      "metadata": {
        "jupyter": {
          "source_hidden": false,
          "outputs_hidden": false
        },
        "nteract": {
          "transient": {
            "deleting": false
          }
        }
      },
      "source": [
        "from delta.tables import *\r\n",
        "from pyspark.sql.functions import *\r\n",
        "\r\n",
        "deltaTable = DeltaTable.forPath(spark, 'abfss://root@adlesilabs.dfs.core.windows.net/delta/Table/PurchaseOrderDetail/')\r\n",
        "\r\n",
        "# Declare the predicate by using a SQL-formatted string.\r\n",
        "deltaTable.delete(\"PurchaseOrderID = 4012\")"
      ]
    },
    {
      "cell_type": "code",
      "execution_count": null,
      "outputs": [],
      "metadata": {
        "jupyter": {
          "source_hidden": false,
          "outputs_hidden": false
        },
        "nteract": {
          "transient": {
            "deleting": false
          }
        },
        "microsoft": {
          "language": "sparksql"
        },
        "collapsed": false
      },
      "source": [
        "%%sql\r\n",
        "DESCRIBE HISTORY 'abfss://root@adlesilabs.dfs.core.windows.net/delta/Table/PurchaseOrderDetail/'"
      ]
    },
    {
      "cell_type": "code",
      "execution_count": null,
      "outputs": [],
      "metadata": {
        "jupyter": {
          "source_hidden": false,
          "outputs_hidden": false
        },
        "nteract": {
          "transient": {
            "deleting": false
          }
        },
        "collapsed": false
      },
      "source": [
        "df2 = spark.read.format(\"delta\").option(\"versionAsOf\", 2).load(\"abfss://root@adlesilabs.dfs.core.windows.net/delta/Table/PurchaseOrderDetail/\")\r\n",
        "display(df2.where(\"PurchaseOrderID = 4012\"))"
      ]
    },
    {
      "cell_type": "markdown",
      "metadata": {
        "nteract": {
          "transient": {
            "deleting": false
          }
        }
      },
      "source": [
        "# Delta File Table Maintenance"
      ]
    },
    {
      "cell_type": "code",
      "execution_count": null,
      "outputs": [],
      "metadata": {
        "jupyter": {
          "source_hidden": false,
          "outputs_hidden": false
        },
        "nteract": {
          "transient": {
            "deleting": false
          }
        }
      },
      "source": [
        "from delta.tables import *\r\n",
        "\r\n",
        "pathToTable = \"abfss://root@adlesilabs.dfs.core.windows.net/delta/Table/PurchaseOrderDetail/\"\r\n",
        "\r\n",
        "deltaTable = DeltaTable.forPath(spark, pathToTable)\r\n",
        "\r\n",
        "deltaTable.vacuum() # vacuum files not required by versions older than the default retention period"
      ]
    },
    {
      "cell_type": "code",
      "execution_count": null,
      "outputs": [],
      "metadata": {
        "jupyter": {
          "source_hidden": false,
          "outputs_hidden": false
        },
        "nteract": {
          "transient": {
            "deleting": false
          }
        }
      },
      "source": [
        "deltaTable.vacuum(100)     # vacuum files not required by versions more than 100 hours old"
      ]
    },
    {
      "cell_type": "code",
      "execution_count": null,
      "outputs": [],
      "metadata": {
        "jupyter": {
          "source_hidden": false,
          "outputs_hidden": false
        },
        "nteract": {
          "transient": {
            "deleting": false
          }
        }
      },
      "source": [
        "# Vacuum DRY RUN\r\n",
        "spark.conf.set(\"spark.databricks.delta.retentionDurationCheck.enabled\", False)"
      ]
    },
    {
      "cell_type": "markdown",
      "metadata": {
        "nteract": {
          "transient": {
            "deleting": false
          }
        }
      },
      "source": [
        "# We can leverage SQL as well"
      ]
    },
    {
      "cell_type": "code",
      "execution_count": null,
      "outputs": [],
      "metadata": {
        "jupyter": {
          "source_hidden": false,
          "outputs_hidden": false
        },
        "nteract": {
          "transient": {
            "deleting": false
          }
        },
        "microsoft": {
          "language": "sparksql"
        },
        "collapsed": false
      },
      "source": [
        "%%sql\r\n",
        "CREATE DATABASE IF NOT EXISTS DP203"
      ]
    },
    {
      "cell_type": "code",
      "execution_count": null,
      "outputs": [],
      "metadata": {
        "jupyter": {
          "source_hidden": false,
          "outputs_hidden": false
        },
        "nteract": {
          "transient": {
            "deleting": false
          }
        },
        "microsoft": {
          "language": "sparksql"
        },
        "collapsed": false
      },
      "source": [
        "%%sql\r\n",
        "CREATE TABLE IF NOT EXISTS DP203.PurchaseOrderDetail_SQL\r\n",
        "(\r\n",
        "  PurchaseOrderID int\r\n",
        ", DueDate string\r\n",
        ", ModifiedDate string\r\n",
        ", SubTotal decimal(18,2)\r\n",
        "\r\n",
        ")\r\n",
        "USING delta\r\n",
        "LOCATION 'abfss://root@adlesilabs.dfs.core.windows.net/delta/Table/PurchaseOrderDetail/'"
      ]
    },
    {
      "cell_type": "code",
      "execution_count": null,
      "outputs": [],
      "metadata": {
        "jupyter": {
          "source_hidden": false,
          "outputs_hidden": false
        },
        "nteract": {
          "transient": {
            "deleting": false
          }
        },
        "microsoft": {
          "language": "sparksql"
        },
        "collapsed": false
      },
      "source": [
        "%%sql\r\n",
        "describe HISTORY DP203.PurchaseOrderDetail_SQL"
      ]
    },
    {
      "cell_type": "code",
      "execution_count": null,
      "outputs": [],
      "metadata": {
        "jupyter": {
          "source_hidden": false,
          "outputs_hidden": false
        },
        "nteract": {
          "transient": {
            "deleting": false
          }
        },
        "microsoft": {
          "language": "sparksql"
        },
        "collapsed": false
      },
      "source": [
        "%%sql\r\n",
        "INSERT INTO DP203.PurchaseOrderDetail_SQL\r\n",
        "SELECT 4013,'7/24/2015','8/12/2015',41.57"
      ]
    },
    {
      "cell_type": "code",
      "execution_count": null,
      "outputs": [],
      "metadata": {
        "jupyter": {
          "source_hidden": false,
          "outputs_hidden": false
        },
        "nteract": {
          "transient": {
            "deleting": false
          }
        },
        "microsoft": {
          "language": "sparksql"
        },
        "collapsed": false
      },
      "source": [
        "%%sql\r\n",
        "describe HISTORY DP203.PurchaseOrderDetail_SQL"
      ]
    },
    {
      "cell_type": "markdown",
      "metadata": {
        "nteract": {
          "transient": {
            "deleting": false
          }
        }
      },
      "source": [
        "# Clean Up"
      ]
    },
    {
      "cell_type": "code",
      "execution_count": null,
      "outputs": [],
      "metadata": {
        "jupyter": {
          "source_hidden": false,
          "outputs_hidden": false
        },
        "nteract": {
          "transient": {
            "deleting": false
          }
        },
        "microsoft": {
          "language": "sparksql"
        },
        "collapsed": false
      },
      "source": [
        "%%sql\r\n",
        "-- Claning up\r\n",
        "DROP DATABASE DP203 CASCADE"
      ]
    },
    {
      "cell_type": "code",
      "execution_count": null,
      "outputs": [],
      "metadata": {
        "jupyter": {
          "source_hidden": false,
          "outputs_hidden": false
        },
        "nteract": {
          "transient": {
            "deleting": false
          }
        },
        "microsoft": {
          "language": "sparksql"
        },
        "collapsed": false
      },
      "source": [
        "%%sql\r\n",
        "-- Claning up\r\n",
        "USE default;\r\n",
        "\r\n",
        "DROP TABLE PurchaseOrderDetails"
      ]
    },
    {
      "cell_type": "code",
      "execution_count": null,
      "outputs": [],
      "metadata": {
        "jupyter": {
          "source_hidden": false,
          "outputs_hidden": false
        },
        "nteract": {
          "transient": {
            "deleting": false
          }
        }
      },
      "source": [
        "# Delete Delta Table (folder)\r\n",
        "delta_table_path = \"abfss://root@adlesilabs.dfs.core.windows.net/delta/Table/PurchaseOrderDetail\"\r\n",
        "mssparkutils.fs.rm(delta_table_path, recurse=True)"
      ]
    }
  ],
  "metadata": {
    "description": null,
    "save_output": true,
    "kernelspec": {
      "name": "synapse_pyspark",
      "display_name": "Synapse PySpark"
    },
    "language_info": {
      "name": "python"
    }
  }
}