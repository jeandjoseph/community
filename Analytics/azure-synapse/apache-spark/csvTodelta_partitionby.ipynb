{
  "nbformat": 4,
  "nbformat_minor": 2,
  "metadata": {
    "kernelspec": {
      "name": "synapse_pyspark",
      "display_name": "Synapse PySpark"
    },
    "language_info": {
      "name": "python"
    },
    "description": null,
    "save_output": true,
    "synapse_widget": {
      "version": "0.1",
      "state": {}
    }
  },
  "cells": [
    {
      "cell_type": "code",
      "execution_count": null,
      "outputs": [],
      "metadata": {
        "microsoft": {
          "language": "python"
        },
        "collapsed": false
      },
      "source": [
        "%%pyspark\r\n",
        "from pyspark.sql.types import *\r\n",
        "from pyspark.sql.functions import *\r\n",
        "\r\n",
        "orderSchema = StructType([\r\n",
        "    StructField(\"PurchaseOrderID\", IntegerType()),\r\n",
        "    StructField(\"PurchaseOrderDetailID\", IntegerType()),\r\n",
        "    StructField(\"DueDate\", DateType()),\r\n",
        "    StructField(\"OrderQty\", IntegerType()),\r\n",
        "    StructField(\"ProductID\", IntegerType()),\r\n",
        "    StructField(\"UnitPrice\", DecimalType(12,2)),\r\n",
        "    StructField(\"LineTotal\", DecimalType(12,2)),\r\n",
        "    StructField(\"ReceivedQty\", DecimalType(12,2)),\r\n",
        "    StructField(\"RejectedQty\", DecimalType(12,2)),\r\n",
        "    StructField(\"StockedQty\", DecimalType(12,2)),\r\n",
        "    StructField(\"ModifiedDate\", DateType())\r\n",
        "    ])\r\n",
        "\r\n",
        "csvDF = spark.read.load('abfss://root@adlesilabs.dfs.core.windows.net/demofiles/csv/PurchaseOrderDetail.csv'\r\n",
        "             ,format='csv'\r\n",
        "             ,schema=orderSchema\r\n",
        "             ,header=True\r\n",
        ")\r\n",
        "display(csvDF.limit(3))"
      ]
    },
    {
      "cell_type": "markdown",
      "metadata": {
        "nteract": {
          "transient": {
            "deleting": false
          }
        }
      },
      "source": [
        "Delta & partition by orderdate\r\n",
        "https://learn.microsoft.com/en-us/azure/databricks/delta/best-practices"
      ]
    },
    {
      "cell_type": "code",
      "execution_count": null,
      "outputs": [],
      "metadata": {
        "jupyter": {
          "source_hidden": false,
          "outputs_hidden": false
        },
        "nteract": {
          "transient": {
            "deleting": false
          }
        },
        "microsoft": {
          "language": "python"
        }
      },
      "source": [
        "%%pyspark\r\n",
        "\r\n",
        "deltaFilePath = \"abfss://root@adlesilabs.dfs.core.windows.net/delta/partition/PurchaseOrderDetail\"\r\n",
        "\r\n",
        "# Save as a Delta files\r\n",
        "(\r\n",
        "    csvDF.write.format(\"delta\")\r\n",
        "         .mode(\"overwrite\").partitionBy(\"DueDate\")\r\n",
        "         .option('overwriteSchema','true')\r\n",
        "         .save(deltaFilePath) \r\n",
        ")"
      ]
    },
    {
      "cell_type": "code",
      "execution_count": 24,
      "outputs": [
        {
          "output_type": "display_data",
          "data": {
            "application/vnd.livy.statement-meta+json": {
              "spark_pool": "SparkPool01",
              "session_id": "1",
              "statement_id": 25,
              "state": "finished",
              "livy_statement_state": "available",
              "queued_time": "2023-06-19T19:08:04.4231714Z",
              "session_start_time": null,
              "execution_start_time": "2023-06-19T19:08:04.569436Z",
              "execution_finish_time": "2023-06-19T19:08:05.6944971Z",
              "spark_jobs": null,
              "parent_msg_id": "51e32e41-c419-412a-85bf-27773eb5cbd5"
            },
            "text/plain": "StatementMeta(SparkPool01, 1, 25, Finished, Available)"
          },
          "metadata": {}
        },
        {
          "output_type": "execute_result",
          "data": {
            "text/plain": "[Table(name='purchaseorderdetail3', database='default', description=None, tableType='MANAGED', isTemporary=False),\n Table(name='purchaseorderdetail_sql', database='default', description=None, tableType='MANAGED', isTemporary=False),\n Table(name='purchaseorderdetail_umt', database='default', description=None, tableType='EXTERNAL', isTemporary=False)]"
          },
          "execution_count": 39,
          "metadata": {}
        }
      ],
      "metadata": {
        "jupyter": {
          "source_hidden": false,
          "outputs_hidden": false
        },
        "nteract": {
          "transient": {
            "deleting": false
          }
        }
      },
      "source": [
        "spark.catalog.listTables()"
      ]
    },
    {
      "cell_type": "code",
      "execution_count": null,
      "outputs": [],
      "metadata": {
        "jupyter": {
          "source_hidden": false,
          "outputs_hidden": false
        },
        "nteract": {
          "transient": {
            "deleting": false
          }
        },
        "microsoft": {
          "language": "sparksql"
        },
        "collapsed": false
      },
      "source": [
        "%%sql\r\n",
        "DESCRIBE HISTORY 'abfss://root@adlesilabs.dfs.core.windows.net/lakedb/delta/partition/PurchaseOrderDetail'\r\n",
        ""
      ]
    },
    {
      "cell_type": "code",
      "execution_count": 23,
      "outputs": [
        {
          "output_type": "display_data",
          "data": {
            "application/vnd.livy.statement-meta+json": {
              "spark_pool": "SparkPool01",
              "session_id": "1",
              "statement_id": 24,
              "state": "finished",
              "livy_statement_state": "available",
              "queued_time": "2023-06-19T19:07:55.3663564Z",
              "session_start_time": null,
              "execution_start_time": "2023-06-19T19:07:55.5182462Z",
              "execution_finish_time": "2023-06-19T19:07:56.078156Z",
              "spark_jobs": null,
              "parent_msg_id": "8cae2c8d-6b48-4272-8432-09e7292ee219"
            },
            "text/plain": "StatementMeta(SparkPool01, 1, 24, Finished, Available)"
          },
          "metadata": {}
        },
        {
          "output_type": "execute_result",
          "data": {
            "application/vnd.synapse.sparksql-result+json": {
              "schema": {
                "type": "struct",
                "fields": []
              },
              "data": []
            },
            "text/plain": "<Spark SQL result set with 0 rows and 0 fields>"
          },
          "execution_count": 23,
          "metadata": {}
        }
      ],
      "metadata": {
        "jupyter": {
          "source_hidden": false,
          "outputs_hidden": false
        },
        "nteract": {
          "transient": {
            "deleting": false
          }
        },
        "microsoft": {
          "language": "sparksql"
        },
        "collapsed": false
      },
      "source": [
        "%%sql\r\n",
        "DROP TABLE top5bestcustomers"
      ]
    }
  ]
}